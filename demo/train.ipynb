{
 "cells": [
  {
   "cell_type": "code",
   "execution_count": 3,
   "metadata": {
    "collapsed": true,
    "pycharm": {
     "name": "#%%\n"
    }
   },
   "outputs": [],
   "source": [
    "import gc\n",
    "import torch\n",
    "import torch.nn as nn\n",
    "from torch.nn import init\n",
    "import torch.nn.functional as F\n",
    "import scipy.io as sio\n",
    "import numpy as np\n",
    "import os\n",
    "from torch.utils.data import Dataset, DataLoader\n",
    "import platform\n",
    "from argparse import ArgumentParser\n",
    "import random\n",
    "import csdata_fast\n",
    "import cv2\n",
    "import glob\n",
    "import math\n",
    "from DGUNet import DGUNet\n",
    "import tensorflow as tf"
   ]
  },
  {
   "cell_type": "code",
   "execution_count": null,
   "outputs": [],
   "source": [
    "# multi-gpu\n",
    "num_gpu = 3\n",
    "gpu_list = '0,1,2' # gpu list\n",
    "start_epoch = 0 # epoch number start training\n",
    "end_epoch = 1 # epoch number end training\n",
    "learning_rate = 1e-4 # learning rate\n",
    "layer_num_ICNN = 15 # phase number of ISTA-Net-plus\n",
    "layer_num_IFC = 5 # phase number of ISTA-Net-plus\n",
    "group_num = 1 # group number for training\n",
    "cs_ratio = 25 # compression rate from {10, 25, 30, 40, 50}\n",
    "rb_type = 1 # from {1, 2}\n",
    "rb_num = 2 # from {3-10}\n",
    "batch_size = 32\n",
    "patch_size = 32\n",
    "matrix_dir = 'sampling_matrix_new'\n"
   ],
   "metadata": {
    "collapsed": false,
    "pycharm": {
     "name": "#%%\n"
    }
   }
  },
  {
   "cell_type": "code",
   "execution_count": 9,
   "outputs": [],
   "source": [
    "# single gpu\n",
    "num_gpu = 1\n",
    "gpu_list = '0' # gpu list\n",
    "start_epoch = 0 # epoch number start training\n",
    "end_epoch = 1 # epoch number end training\n",
    "learning_rate = 1e-4 # learning rate\n",
    "layer_num_ICNN = 15 # phase number of ISTA-Net-plus\n",
    "layer_num_IFC = 5 # phase number of ISTA-Net-plus\n",
    "group_num = 1 # group number for training\n",
    "cs_ratio = 25 # compression rate from {10, 25, 30, 40, 50}\n",
    "rb_type = 1 # from {1, 2}\n",
    "rb_num = 2 # from {3-10}\n",
    "batch_size = 32\n",
    "patch_size = 32\n",
    "matrix_dir = 'sampling_matrix_new'\n"
   ],
   "metadata": {
    "collapsed": false,
    "pycharm": {
     "name": "#%%\n"
    }
   }
  },
  {
   "cell_type": "code",
   "execution_count": null,
   "outputs": [],
   "source": [
    "def col2im_CS_py(X_col, row, col, row_new, col_new):\n",
    "    block_size = patch_size\n",
    "    X0_rec = np.zeros([row_new, col_new])\n",
    "    count = 0\n",
    "    for x in range(0, row_new - block_size + 1, block_size):\n",
    "        for y in range(0, col_new - block_size + 1, block_size):\n",
    "            X0_rec[x:x + block_size, y:y + block_size] = X_col[:, count].reshape([block_size, block_size])\n",
    "            count = count + 1\n",
    "    X_rec = X0_rec[:row, :col]\n",
    "    return X_rec"
   ],
   "metadata": {
    "collapsed": false,
    "pycharm": {
     "name": "#%%\n"
    }
   }
  },
  {
   "cell_type": "code",
   "execution_count": null,
   "outputs": [],
   "source": [
    "def psnr(img1, img2):\n",
    "    img1.astype(np.float32)\n",
    "    img2.astype(np.float32)\n",
    "    mse = np.mean((img1 - img2) ** 2)\n",
    "    if mse == 0:\n",
    "        return 100\n",
    "    PIXEL_MAX = 255.0\n",
    "    return 20 * math.log10(PIXEL_MAX / math.sqrt(mse))"
   ],
   "metadata": {
    "collapsed": false,
    "pycharm": {
     "name": "#%%\n"
    }
   }
  },
  {
   "cell_type": "code",
   "execution_count": null,
   "outputs": [],
   "source": [
    "def imread_CS_py(Iorg):\n",
    "    block_size = patch_size\n",
    "    [row, col] = Iorg.shape\n",
    "    row_pad = block_size - np.mod(row, block_size)\n",
    "    col_pad = block_size - np.mod(col, block_size)\n",
    "    Ipad = np.concatenate((Iorg, np.zeros([row, col_pad])), axis=1)\n",
    "    Ipad = np.concatenate((Ipad, np.zeros([row_pad, col + col_pad])), axis=0)\n",
    "    [row_new, col_new] = Ipad.shape\n",
    "\n",
    "    return [Iorg, row, col, Ipad, row_new, col_new]"
   ],
   "metadata": {
    "collapsed": false,
    "pycharm": {
     "name": "#%%\n"
    }
   }
  },
  {
   "cell_type": "code",
   "execution_count": null,
   "outputs": [],
   "source": [
    "\n",
    "def img2col_py(Ipad, block_size):\n",
    "    [row, col] = Ipad.shape\n",
    "    row_block = row / block_size\n",
    "    col_block = col / block_size\n",
    "    block_num = int(row_block * col_block)\n",
    "    img_col = np.zeros([block_size ** 2, block_num])\n",
    "    count = 0\n",
    "    for x in range(0, row - block_size + 1, block_size):\n",
    "        for y in range(0, col - block_size + 1, block_size):\n",
    "            img_col[:, count] = Ipad[x:x + block_size, y:y + block_size].reshape([-1])\n",
    "            count = count + 1\n",
    "    return img_col"
   ],
   "metadata": {
    "collapsed": false,
    "pycharm": {
     "name": "#%%\n"
    }
   }
  },
  {
   "cell_type": "code",
   "execution_count": null,
   "outputs": [],
   "source": [
    "class RandomDataset(Dataset):\n",
    "    def __init__(self, data, length):\n",
    "        self.data = data\n",
    "        self.len = length\n",
    "\n",
    "    def __getitem__(self, index):\n",
    "        return torch.Tensor(self.data[index, :]).float()\n",
    "\n",
    "    def __len__(self):\n",
    "        return self.len"
   ],
   "metadata": {
    "collapsed": false,
    "pycharm": {
     "name": "#%%\n"
    }
   }
  },
  {
   "cell_type": "code",
   "execution_count": 10,
   "outputs": [],
   "source": [
    "os.environ[\"CUDA_DEVICE_ORDER\"] = \"PCI_BUS_ID\"\n",
    "os.environ[\"CUDA_VISIBLE_DEVICES\"] = gpu_list\n",
    "device = torch.device(\"cuda:0\" if torch.cuda.is_available() else \"cpu\")\n",
    "gpus = tf.config.experimental.list_physical_devices(device_type='GPU')\n",
    "for gpu in gpus:\n",
    "    tf.config.experimental.set_memory_growth(gpu, True)\n",
    "device = torch.device(\"cuda:0\" if torch.cuda.is_available() else \"cpu\")"
   ],
   "metadata": {
    "collapsed": false,
    "pycharm": {
     "name": "#%%\n"
    }
   }
  },
  {
   "cell_type": "code",
   "execution_count": 11,
   "outputs": [],
   "source": [
    "ratio_dict = {10: 0, 25: 1, 30: 2, 40: 3, 50: 4}\n",
    "# n_input = ratio_dict[cs_ratio]\n",
    "n_output = 1089\n",
    "nrtrain = 88912  # number of training blocks\n",
    "psnr_best = 0\n",
    "best_epoch = 0"
   ],
   "metadata": {
    "collapsed": false,
    "pycharm": {
     "name": "#%%\n"
    }
   }
  },
  {
   "cell_type": "code",
   "execution_count": 12,
   "outputs": [],
   "source": [
    "# test data\n",
    "test_name = 'myTest'  # test images repositary\n",
    "test_dir = os.path.join('Datasets', test_name)\n",
    "filepaths = glob.glob(test_dir + '/*.jpg')\n",
    "ImgNum = len(filepaths)"
   ],
   "metadata": {
    "collapsed": false,
    "pycharm": {
     "name": "#%%\n"
    }
   }
  },
  {
   "cell_type": "code",
   "execution_count": 13,
   "outputs": [],
   "source": [
    "# Load CS Sampling Matrix: phi\n",
    "Phi_data_Name = os.path.join(matrix_dir,\n",
    "                             'phi_sampling_%d_%dx%d.npy' % (cs_ratio, patch_size,patch_size))\n",
    "Phi_input = np.load(Phi_data_Name)\n",
    "Phi = torch.from_numpy(Phi_input).type(torch.FloatTensor)"
   ],
   "metadata": {
    "collapsed": false,
    "pycharm": {
     "name": "#%%\n"
    }
   }
  },
  {
   "cell_type": "code",
   "execution_count": null,
   "outputs": [],
   "source": [
    "length, in_channels = Phi.shape\n",
    "print('Length:', length, ' In_channels:', in_channels)\n",
    "model = DGUNet(in_c=1, out_c=1,cs_ratio=cs_ratio)\n",
    "print('GPU: ',list(range(num_gpu)))\n",
    "model = nn.DataParallel(model,device_ids=list(range(num_gpu)))\n",
    "model = model.to(device)"
   ],
   "metadata": {
    "collapsed": false,
    "pycharm": {
     "name": "#%%\n"
    }
   }
  },
  {
   "cell_type": "code",
   "execution_count": null,
   "outputs": [],
   "source": [
    "print_flag = 1  # print parameter number\n",
    "if print_flag:\n",
    "    num_count = 0\n",
    "    num_params = 0\n",
    "    for para in model.parameters():\n",
    "        num_count += 1\n",
    "        num_params += para.numel()\n",
    "        print('Layer %d' % num_count)\n",
    "        print(para.size())\n",
    "    print(\"total para num: %d\" % num_params)"
   ],
   "metadata": {
    "collapsed": false,
    "pycharm": {
     "name": "#%%\n"
    }
   }
  },
  {
   "cell_type": "code",
   "execution_count": null,
   "outputs": [],
   "source": [
    "training_data = csdata_fast.SlowDataset(args)"
   ],
   "metadata": {
    "collapsed": false,
    "pycharm": {
     "name": "#%%\n"
    }
   }
  },
  {
   "cell_type": "code",
   "execution_count": null,
   "outputs": [],
   "source": [
    "if (platform.system() == \"Windows\"):\n",
    "    rand_loader = DataLoader(dataset=training_data, batch_size=batch_size,\n",
    "                             shuffle=True)\n",
    "else:\n",
    "    print('linux')\n",
    "    rand_loader = DataLoader(dataset=training_data, batch_size=batch_size, num_workers=24,\n",
    "                             shuffle=True)"
   ],
   "metadata": {
    "collapsed": false,
    "pycharm": {
     "name": "#%%\n"
    }
   }
  },
  {
   "cell_type": "code",
   "execution_count": null,
   "outputs": [],
   "source": [
    "optimizer = torch.optim.Adam(model.parameters(), lr=learning_rate)\n",
    "\n",
    "model_dir = \"./%s/CS_%s_layerICNN_%d_layerIFC_%s_group_%d_ratio_%d\" % (\n",
    "model_dir, algo_name, layer_num_ICNN, layer_num_IFC, group_num, cs_ratio)\n",
    "\n",
    "log_file_name = \"./%s/Log_CS_%s_layerICNN_%d_layerIFC_%d_group_%d_ratio_%d.txt\" % (\n",
    "log_dir, algo_name, layer_num_ICNN, layer_num_IFC, group_num, cs_ratio)"
   ],
   "metadata": {
    "collapsed": false,
    "pycharm": {
     "name": "#%%\n"
    }
   }
  },
  {
   "cell_type": "code",
   "execution_count": null,
   "outputs": [],
   "source": [
    "if not os.path.exists(model_dir):\n",
    "    os.makedirs(model_dir)\n",
    "\n",
    "if start_epoch > 0:\n",
    "    pre_model_dir = model_dir\n",
    "    model.load_state_dict(torch.load('./%s/net_params_%d.pkl' % (pre_model_dir, start_epoch)))\n",
    "\n",
    "step_all = len(rand_loader)"
   ],
   "metadata": {
    "collapsed": false,
    "pycharm": {
     "name": "#%%\n"
    }
   }
  },
  {
   "cell_type": "code",
   "execution_count": null,
   "outputs": [],
   "source": [
    "# Training loop\n",
    "for epoch_i in range(start_epoch + 1, end_epoch + 1):\n",
    "    model.train()\n",
    "    for step, data in enumerate(rand_loader):\n",
    "        batch_x = data\n",
    "        batch_x = batch_x.to(device)\n",
    "        batch_x = batch_x.view(batch_x.shape[0], patch_size * patch_size)\n",
    "\n",
    "        batch_x = batch_x.view(batch_x.shape[0], 1, patch_size, patch_size)\n",
    "        x_output_f = model(batch_x)\n",
    "        if loss_mod==1:\n",
    "            loss_list = [torch.mean(torch.pow(torch.clamp(x_output_f[j], 0, 1) - batch_x, 2)) for j in range(len(x_output_f))]\n",
    "            loss_all = torch.sum(torch.stack(loss_list))\n",
    "        else:\n",
    "            loss_all = torch.mean(torch.pow(torch.clamp(x_output_f[0], 0, 1) - batch_x,2))\n",
    "\n",
    "        batch_x.cpu()\n",
    "        del batch_x\n",
    "        gc.collect()\n",
    "\n",
    "        optimizer.zero_grad()\n",
    "        loss_all.backward()\n",
    "        optimizer.step()\n",
    "        if step % 40 == 0:\n",
    "            output_data = \"[Epoch: %02d/%02d Step: %d/%d] Total Loss: %.4f\" % (\n",
    "                epoch_i, end_epoch, step, step_all, loss_all.item())\n",
    "            print(output_data)\n",
    "    if not os.path.exists(log_file_name):\n",
    "        file = open(log_file_name, 'w')\n",
    "        file.write(output_data)\n",
    "    else:\n",
    "        output_file = open(log_file_name, 'a')\n",
    "        output_file.write(output_data)\n",
    "        output_file.close()\n",
    "\n",
    "    del rand_loader\n",
    "    gc.collect()\n",
    "\n",
    "    model.eval()\n",
    "    with torch.no_grad():\n",
    "        psnr_ave = 0\n",
    "        for img_no in range(ImgNum):\n",
    "            imgName = filepaths[img_no]\n",
    "            Img = cv2.imread(imgName, 1)\n",
    "            Img_yuv = cv2.cvtColor(Img, cv2.COLOR_BGR2YCrCb)\n",
    "            Iorg_y = Img_yuv[:, :, 0]\n",
    "            [Iorg, row, col, Ipad, row_new, col_new] = imread_CS_py(Iorg_y)\n",
    "            Icol = img2col_py(Ipad, patch_size).transpose() / 255.0\n",
    "            Img_output = Icol\n",
    "            batch_x = torch.from_numpy(Img_output)\n",
    "            batch_x = batch_x.type(torch.FloatTensor)\n",
    "            batch_x = batch_x.to(device)\n",
    "\n",
    "#             Phix = torch.mm(batch_x, torch.transpose(Phi, 0, 1))  # compression result\n",
    "#             PhixPhiT = torch.mm(Phix, Phi)\n",
    "            batch_x = batch_x.view(batch_x.shape[0], 1, patch_size, patch_size)\n",
    "            x_output = model(batch_x)[0]  # torch.mm(batch_x,\n",
    "\n",
    "            batch_x.cpu()\n",
    "            del batch_x\n",
    "            gc.collect()\n",
    "\n",
    "            x_output = x_output.view(x_output.shape[0], -1)\n",
    "            Prediction_value = x_output.cpu().data.numpy()\n",
    "\n",
    "            X_rec = np.clip(col2im_CS_py(Prediction_value.transpose(), row, col, row_new, col_new), 0, 1)\n",
    "\n",
    "            rec_PSNR = psnr(X_rec * 255, Iorg.astype(np.float64))\n",
    "            psnr_ave += rec_PSNR\n",
    "            del x_output\n",
    "            gc.collect()\n",
    "    psnr_ave /= ImgNum\n",
    "    if psnr_ave > psnr_best:\n",
    "        best_epoch = epoch_i\n",
    "        psnr_best = psnr_ave\n",
    "        torch.save(model.state_dict(), \"./%s/net_best.pkl\" % (model_dir))  # save only the parameters\n",
    "    torch.save(model.state_dict(), \"./%s/net_last.pkl\" % (model_dir))  # save only the parameters\n",
    "    print('best psnr is %.4f in epoch %d psnr_rec: %.4f' % (psnr_best, best_epoch, psnr_ave))"
   ],
   "metadata": {
    "collapsed": false,
    "pycharm": {
     "name": "#%%\n"
    }
   }
  }
 ],
 "metadata": {
  "kernelspec": {
   "display_name": "Python 3",
   "language": "python",
   "name": "python3"
  },
  "language_info": {
   "codemirror_mode": {
    "name": "ipython",
    "version": 2
   },
   "file_extension": ".py",
   "mimetype": "text/x-python",
   "name": "python",
   "nbconvert_exporter": "python",
   "pygments_lexer": "ipython2",
   "version": "2.7.6"
  }
 },
 "nbformat": 4,
 "nbformat_minor": 0
}